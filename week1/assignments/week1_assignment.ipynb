{
  "nbformat": 4,
  "nbformat_minor": 0,
  "metadata": {
    "colab": {
      "provenance": []
    },
    "kernelspec": {
      "name": "python3",
      "display_name": "Python 3"
    },
    "language_info": {
      "name": "python"
    }
  },
  "cells": [
    {
      "cell_type": "markdown",
      "source": [
        "# Exercice 1 ---- Introduction"
      ],
      "metadata": {
        "id": "mQjMaeoykZT7"
      }
    },
    {
      "cell_type": "markdown",
      "source": [
        "##### 1) First Approach"
      ],
      "metadata": {
        "id": "y5cBg8SjrKCx"
      }
    },
    {
      "cell_type": "code",
      "execution_count": null,
      "metadata": {
        "id": "Q0HgYGkRdo6p"
      },
      "outputs": [],
      "source": [
        "def count_divisors(n):\n",
        "    count = 0 \n",
        "    d=1\n",
        "    while d<=n:\n",
        "        if n%d==0:\n",
        "            count+=1\n",
        "        d+=1\n",
        "    return count \n",
        "\n"
      ]
    },
    {
      "cell_type": "markdown",
      "source": [
        "To obtain the divisors of n using the first solution we itterate through all elements from 1 to n in each step we test if the  element divise n the we increment our counter."
      ],
      "metadata": {
        "id": "BYQ64xlikj5m"
      }
    },
    {
      "cell_type": "code",
      "source": [
        "%timeit count_divisors(10)\n",
        "%timeit count_divisors(1000)\n",
        "%timeit count_divisors(10000000)"
      ],
      "metadata": {
        "colab": {
          "base_uri": "https://localhost:8080/"
        },
        "id": "W7C3X9FohGwj",
        "outputId": "050c7c75-b14b-4f5c-acb5-d586f1af84de"
      },
      "execution_count": null,
      "outputs": [
        {
          "output_type": "stream",
          "name": "stdout",
          "text": [
            "1.47 µs ± 383 ns per loop (mean ± std. dev. of 7 runs, 1000000 loops each)\n",
            "132 µs ± 34.9 µs per loop (mean ± std. dev. of 7 runs, 10000 loops each)\n",
            "1.45 s ± 362 ms per loop (mean ± std. dev. of 7 runs, 1 loop each)\n"
          ]
        }
      ]
    },
    {
      "cell_type": "markdown",
      "source": [
        "##### 2) Second Approach"
      ],
      "metadata": {
        "id": "qhjNspWArOMf"
      }
    },
    {
      "cell_type": "code",
      "source": [
        "def count_divisors_opt(n):\n",
        "  count =0\n",
        "  d =1\n",
        "  while d*d <=n:\n",
        "    if n%d == 0:\n",
        "      count+=1 if n/d ==d else 2\n",
        "    d+=1\n",
        "  return count"
      ],
      "metadata": {
        "id": "lqvXe7jthvKU"
      },
      "execution_count": null,
      "outputs": []
    },
    {
      "cell_type": "markdown",
      "source": [
        "The \"Fundamental Theorem of Arithmetic\" states that to determine the divisors of a number n, it is sufficient to check for values up to the square root of n. It is a fundamental concept in number theory and is often used in algorithms for finding divisors or prime factorization of a number.\n",
        "\n",
        "In this optimal version, instead of reaching n we go just until sqrt(n), and when n/d!=d it means we get two divisors and then we gained in terms of iterations.\n"
      ],
      "metadata": {
        "id": "RLK3ksCIlrEs"
      }
    },
    {
      "cell_type": "markdown",
      "source": [
        "3) Which algorithm is faster :"
      ],
      "metadata": {
        "id": "qDDK_UAm9zPx"
      }
    },
    {
      "cell_type": "code",
      "source": [
        "%timeit count_divisors_opt(10)\n",
        "%timeit count_divisors_opt(1000)\n",
        "%timeit count_divisors_opt(10000000)"
      ],
      "metadata": {
        "colab": {
          "base_uri": "https://localhost:8080/"
        },
        "id": "Xu0eMUU_jb5p",
        "outputId": "b6fd0cf0-af7f-4067-f736-064fe73635b0"
      },
      "execution_count": null,
      "outputs": [
        {
          "output_type": "stream",
          "name": "stdout",
          "text": [
            "739 ns ± 5.11 ns per loop (mean ± std. dev. of 7 runs, 1000000 loops each)\n",
            "6.97 µs ± 2.29 µs per loop (mean ± std. dev. of 7 runs, 100000 loops each)\n",
            "468 µs ± 4.7 µs per loop (mean ± std. dev. of 7 runs, 1000 loops each)\n"
          ]
        }
      ]
    },
    {
      "cell_type": "code",
      "source": [
        "from IPython import display\n",
        "display.Image(\"/content/divisor.PNG\")"
      ],
      "metadata": {
        "colab": {
          "base_uri": "https://localhost:8080/",
          "height": 324
        },
        "id": "U7QuXNR2rq-i",
        "outputId": "a8afc854-f18c-468b-93ef-13cd47d0ebf0"
      },
      "execution_count": null,
      "outputs": [
        {
          "output_type": "execute_result",
          "data": {
            "image/png": "[encoded data removed]",
            "text/plain": [
              "<IPython.core.display.Image object>"
            ]
          },
          "metadata": {},
          "execution_count": 17
        }
      ]
    },
    {
      "cell_type": "markdown",
      "source": [
        "##### 4) Number of operations :\n"
      ],
      "metadata": {
        "id": "nDAvE1M_t87s"
      }
    },
    {
      "cell_type": "markdown",
      "source": [
        "> The first program execute n division, n addition and k addition where k is the number of divisors.\n",
        "\n",
        "==> The total number of operations is 2n+k\n"
      ],
      "metadata": {
        "id": "NDPhQtOUuI0V"
      }
    },
    {
      "cell_type": "markdown",
      "source": [
        "> The second program execute sqrt(n) multiplication( d*d),sqrt(n) division(n%d) , sqrt(n) addition and k divsion + k addition where k is the number of divisors of n.\n",
        "\n",
        "==> The total number of operations is 3 * sqrt(n) + 2*K (k number of divisors )"
      ],
      "metadata": {
        "id": "sikOJCB_uvAG"
      }
    },
    {
      "cell_type": "markdown",
      "source": [
        "# Exercice 2 ---- Big-O Notation :"
      ],
      "metadata": {
        "id": "AZ6yxgHb0Kzj"
      }
    },
    {
      "cell_type": "markdown",
      "source": [
        "#### 1) Giving $T(n) = 3n^3+2n^2+ \\frac{1}{2}n+7$, prove that : $T(n) = O(n^3)$\n",
        "\n",
        "We have : $\\frac{T(n)}{n^3} = \\frac{3n^3+2n^2+ \\frac{1}{2}n+7}{n^3}\\leq3+c'   \\qquad and : c'\\geq \\frac{2n^2+ \\frac{1}{2}n+7}{n^3}$ \\\\\n",
        "\n",
        "So: $T(n) \\leq n^3k \\qquad and: k=(3+c')$   \n",
        "Then : $$T(n)\\leq kf(n)$$\n",
        "Thus: $T(n) = O(f(n))=O(n^3)$\n",
        "\n"
      ],
      "metadata": {
        "id": "Z-dh38ic0V8h"
      }
    },
    {
      "cell_type": "markdown",
      "source": [
        "2) For any $k\\geq1, \\quad n^k$ **is not** $O(n^{k-1})$ :\n",
        "\n",
        "Let's take : $$T(n) = n^k \\qquad and : f(n) = n^{k-1}$$\n",
        "we have : $\\quad \\frac{T(n)}{f(n)} = \\frac{n^k}{n^{k-1}} = n$\n",
        "As n is not considered a constant in this case so we can't represent : $T(n)\\leq Cf(n)$ We then conclude that $n^k$ is not $O(n^{k-1})$.\n",
        "\n"
      ],
      "metadata": {
        "id": "9BYqHx8h88YU"
      }
    },
    {
      "cell_type": "markdown",
      "source": [
        "#Exercice 3 ---- Merge sort"
      ],
      "metadata": {
        "id": "aw2SIa5NBQid"
      }
    },
    {
      "cell_type": "code",
      "source": [
        "def merge(A,B):\n",
        "  i=0\n",
        "  j=0\n",
        "  n=len(A)+len(B)\n",
        "  C=[]\n",
        "  for k in range(n):\n",
        "    if i < len(A) and (j >= len(B) or A[i] <= B[j]):\n",
        "      C.append(A[i])\n",
        "      i+=1\n",
        "    else:\n",
        "      C.append(B[j])\n",
        "      j+=1\n",
        "  return C\n",
        "\n",
        "\n",
        "#Example \n",
        "A=[1,3,6]\n",
        "B=[2,5,9]\n",
        "merge(A,B)"
      ],
      "metadata": {
        "colab": {
          "base_uri": "https://localhost:8080/"
        },
        "id": "u1qsp3oM0Ia1",
        "outputId": "26fdc63c-9202-4885-f8d4-3f8d802af4f4"
      },
      "execution_count": null,
      "outputs": [
        {
          "output_type": "execute_result",
          "data": {
            "text/plain": [
              "[1, 2, 3, 5, 6, 9]"
            ]
          },
          "metadata": {},
          "execution_count": 20
        }
      ]
    },
    {
      "cell_type": "markdown",
      "source": [
        "The time complexity of the function is $O(n)$, where $n$ is the total number of elements in $A$ and $B$. This is because the function uses a single loop that iterates over each element in $A$ and $B$ exactly once an perfome on operation(addition)"
      ],
      "metadata": {
        "id": "x_GP4n79Bgc9"
      }
    },
    {
      "cell_type": "markdown",
      "source": [
        "# Exercice 4 ---- The master method"
      ],
      "metadata": {
        "id": "Xg4BuPZjzsz7"
      }
    },
    {
      "cell_type": "markdown",
      "source": [
        "###  1) The complexity analysis of merge sort using the master theorem :\n",
        "We know that time complexity of merge and sort is $T(n) = T(n/2)+T(n/2)+O(n)$\n",
        "where T(n/2) is time comlexity to sort left or right list and $O(n)$ is the complexity to merge merge to sorted list .\n",
        "\n",
        "So $T(n)= 2T(n) + O(n)$\n",
        "\n",
        "We know that the master theorem states :\n",
        "if we can write $T(n)= aT(n/b) +O(n^d)$ then \n",
        "$T(n)=\\left\\{\\begin{array}{lll}\n",
        "O\\left(n^d \\log n\\right) & \\text { if } a=b^d & \\text { (Case 1) } \\\\\n",
        "O\\left(n^d\\right) & \\text { if } a<b^d & \\text { (Case 2) } \\\\\n",
        "O\\left(n^{\\log _b a}\\right) & \\text { if } a>b^d & \\text { (Case 3) }\n",
        "\\end{array}\\right.$\n",
        "\n",
        " in the merge and sort method $a=2,b=2,d=1$\n",
        "\n",
        " since $b^d=a$ so the complexity $T(n)=O(n\\log _2 n))$\n"
      ],
      "metadata": {
        "id": "XASjp33Cz3WW"
      }
    },
    {
      "cell_type": "markdown",
      "source": [
        "###  2) The complexity analysis of Binary search using the master theorem :\n",
        "The time complexity of binary search on an array of size is \n",
        "$T(n) = T(n/2) + O(1)$\n",
        "where $T(n/2)$ the complexity to search in the left o right list and $O(1)$ represents the constant amount of work required to compare the target element with the middle element of the subarray.\n",
        "\n",
        "using the master theorem:\n",
        "we have $a=1, b=2, d=0$ \n",
        "\n",
        "since $b^d=a=1$ so the complexity of binary search is:\n",
        " $T(n)=O(n^d\\log _2 n))= O(\\log _2 n))$\n"
      ],
      "metadata": {
        "id": "m__VrrrBz5Q1"
      }
    },
    {
      "cell_type": "markdown",
      "source": [
        "# Exercice 5 ----Matrix Multiplication"
      ],
      "metadata": {
        "id": "Fe-FmcDkCM1C"
      }
    },
    {
      "cell_type": "markdown",
      "source": [
        "### Matrix multiplication algorithm :"
      ],
      "metadata": {
        "id": "qUG4B0ydCSdZ"
      }
    },
    {
      "cell_type": "code",
      "source": [
        "import numpy as np"
      ],
      "metadata": {
        "id": "aYZ52mJM1bcf"
      },
      "execution_count": null,
      "outputs": []
    },
    {
      "cell_type": "code",
      "source": [
        "def Matrix_multi(A, B):\n",
        "  res = np.zeros((A.shape[0], B.shape[1]))\n",
        "  if A.shape[1]!=B.shape[0]:\n",
        "    raise Exception(\"Sorry, The multiplication is not possible\")\n",
        "  else:\n",
        "    # iterating by row of A\n",
        "    for i in range(A.shape[0]):\n",
        "        # iterating by column by B\n",
        "        for j in range( B.shape[1]):\n",
        "    \n",
        "            # iterating by rows of B\n",
        "            for k in range(B.shape[0]):\n",
        "                res[i, j] += A[i, k] * B[k, j]\n",
        "  return res"
      ],
      "metadata": {
        "id": "lzapjEOpCQ46"
      },
      "execution_count": null,
      "outputs": []
    },
    {
      "cell_type": "code",
      "source": [
        "M = np.random.randint(10, size = (256,512))\n",
        "N = np.random.randint(10, size = (512,256))\n",
        "%timeit Matrix_multi(M,N)\n"
      ],
      "metadata": {
        "colab": {
          "base_uri": "https://localhost:8080/"
        },
        "id": "epMiiu-yVGL7",
        "outputId": "73d193ff-3336-47aa-af48-964f9568da44"
      },
      "execution_count": null,
      "outputs": [
        {
          "output_type": "stream",
          "name": "stdout",
          "text": [
            "28.2 s ± 372 ms per loop (mean ± std. dev. of 7 runs, 1 loop each)\n"
          ]
        }
      ]
    },
    {
      "cell_type": "markdown",
      "source": [
        "#### 2) The complexity of the algorithm :"
      ],
      "metadata": {
        "id": "a1akzwK6Htlz"
      }
    },
    {
      "cell_type": "markdown",
      "source": [
        "This algorithm requires, in the worst case, \n",
        "$n^{3}$ multiplications of scalars and \n",
        "$n^{3}-n^{2}$ additions for computing the product of two square n×n matrices. Its computational complexity is therefore $O(n^{3})$."
      ],
      "metadata": {
        "id": "7plTAZzrGu5l"
      }
    },
    {
      "cell_type": "markdown",
      "source": [
        "##### 3) The same matrix multiplication algorithm in C :\n",
        "Check the attached file for execution and test."
      ],
      "metadata": {
        "id": "BsmILh7gmpSg"
      }
    },
    {
      "cell_type": "markdown",
      "source": [
        "##### 4) Matrix multiplication optimization:"
      ],
      "metadata": {
        "id": "gj4742sKmv2a"
      }
    },
    {
      "cell_type": "code",
      "source": [
        "import numpy as np\n",
        "\n",
        "def matrix_multiply_optimized(A, B, block_size):\n",
        "    \"\"\"\n",
        "    Multiplies two matrices using optimized block by block multiplication\n",
        "    \n",
        "    Parameters:\n",
        "    A (numpy.ndarray): First matrix\n",
        "    B (numpy.ndarray): Second matrix\n",
        "    block_size (int): Size of the blocks\n",
        "    \n",
        "    Returns:\n",
        "    C (numpy.ndarray): Product of A and B\n",
        "    \"\"\"\n",
        "    \n",
        "    # Get the dimensions of A and B\n",
        "    m, n = A.shape\n",
        "    n2, p = B.shape\n",
        "    \n",
        "    # Check if the matrices can be multiplied\n",
        "    if n != n2:\n",
        "        print(\"Matrices cannot be multiplied\")\n",
        "        return None\n",
        "    \n",
        "    # Create an empty matrix to hold the product\n",
        "    C = np.zeros((m, p))\n",
        "    \n",
        "    # Multiply the matrices block by block\n",
        "    for i in range(0, m, block_size):\n",
        "        for j in range(0, p, block_size):\n",
        "            for k in range(0, n, block_size):\n",
        "                # Multiply the block of A and B\n",
        "                C[i:i+block_size, j:j+block_size] += np.dot(A[i:i+block_size, k:k+block_size], B[k:k+block_size, j:j+block_size])\n",
        "    \n",
        "    return C"
      ],
      "metadata": {
        "id": "dT4-U0tYEq5u"
      },
      "execution_count": null,
      "outputs": []
    },
    {
      "cell_type": "code",
      "source": [
        "%timeit matrix_multiply_optimized(M,N, 128)"
      ],
      "metadata": {
        "colab": {
          "base_uri": "https://localhost:8080/"
        },
        "id": "2bZZ5KX2WxNR",
        "outputId": "ec2e0fe3-01a1-44e2-cbf2-de8939e48b4f"
      },
      "execution_count": null,
      "outputs": [
        {
          "output_type": "stream",
          "name": "stdout",
          "text": [
            "44.5 ms ± 975 µs per loop (mean ± std. dev. of 7 runs, 10 loops each)\n"
          ]
        }
      ]
    },
    {
      "cell_type": "code",
      "source": [
        "%timeit matrix_multiply_optimized(M,N, 64)"
      ],
      "metadata": {
        "colab": {
          "base_uri": "https://localhost:8080/"
        },
        "id": "j__pS5s62ZSx",
        "outputId": "fd18269c-af5e-4946-e704-0f61b0f9f5ce"
      },
      "execution_count": null,
      "outputs": [
        {
          "output_type": "stream",
          "name": "stdout",
          "text": [
            "40.6 ms ± 811 µs per loop (mean ± std. dev. of 7 runs, 10 loops each)\n"
          ]
        }
      ]
    },
    {
      "cell_type": "code",
      "source": [
        "%timeit matrix_multiply_optimized(M,N, 32)"
      ],
      "metadata": {
        "colab": {
          "base_uri": "https://localhost:8080/"
        },
        "id": "0UujDKz1ee2S",
        "outputId": "612e6b09-74ee-492e-86e2-724080558a82"
      },
      "execution_count": null,
      "outputs": [
        {
          "output_type": "stream",
          "name": "stdout",
          "text": [
            "77.2 ms ± 10 ms per loop (mean ± std. dev. of 7 runs, 10 loops each)\n"
          ]
        }
      ]
    },
    {
      "cell_type": "code",
      "source": [
        "%timeit matrix_multiply_optimized(M,N, 16)"
      ],
      "metadata": {
        "colab": {
          "base_uri": "https://localhost:8080/"
        },
        "id": "m8xfR1O930wo",
        "outputId": "7d643668-5f8a-49cc-f77c-d45dffead949"
      },
      "execution_count": null,
      "outputs": [
        {
          "output_type": "stream",
          "name": "stdout",
          "text": [
            "205 ms ± 49.5 ms per loop (mean ± std. dev. of 7 runs, 1 loop each)\n"
          ]
        }
      ]
    },
    {
      "cell_type": "code",
      "source": [
        "%timeit matrix_multiply_optimized(M,N, 256)"
      ],
      "metadata": {
        "colab": {
          "base_uri": "https://localhost:8080/"
        },
        "id": "dJdl-vjq2NT7",
        "outputId": "af1694f8-c517-45c0-d30f-e50aed208834"
      },
      "execution_count": null,
      "outputs": [
        {
          "output_type": "stream",
          "name": "stdout",
          "text": [
            "58 ms ± 9.3 ms per loop (mean ± std. dev. of 7 runs, 10 loops each)\n"
          ]
        }
      ]
    },
    {
      "cell_type": "code",
      "source": [
        "import matplotlib.pyplot as plt\n",
        "\n",
        "L=[205, 77.2, 40.6, 44.5, 58]\n",
        "block=[16, 32, 64, 128, 256]\n",
        "plt.plot(block, L)\n",
        "plt.title(\"time execution in terms of block size\")\n",
        "plt.xlabel(\"block size\")\n",
        "plt.ylabel(\"needed time\")\n",
        "\n",
        "plt.show()"
      ],
      "metadata": {
        "colab": {
          "base_uri": "https://localhost:8080/",
          "height": 295
        },
        "id": "GbUyJfti2ViV",
        "outputId": "6c3249b8-31e5-41d6-9109-5e90a0f98250"
      },
      "execution_count": null,
      "outputs": [
        {
          "output_type": "display_data",
          "data": {
            "text/plain": [
              "<Figure size 432x288 with 1 Axes>"
            ],
            "image/png": "[encoded data removed]"
          },
          "metadata": {
            "needs_background": "light"
          }
        }
      ]
    },
    {
      "cell_type": "markdown",
      "source": [
        "### Interpretation \n",
        "As observed from the time computation above, the more we increase the block size we reduce the timing needed to execute the multiplication but it may decrease at a certain size (as indicated in the plot above), that's why it's highly recommended to to search for the optimal size that returns the smallest time execution"
      ],
      "metadata": {
        "id": "GNg6-GnKo-jr"
      }
    },
    {
      "cell_type": "markdown",
      "source": [
        "## Bonus"
      ],
      "metadata": {
        "id": "KinpCb2cy-s1"
      }
    },
    {
      "cell_type": "code",
      "source": [
        "def merge_sort(arr1, arr2):\n",
        "    # Merge two arrays into a single array\n",
        "    arr = arr1 + arr2\n",
        "\n",
        "    # Recursive case: split the array in half and merge sort each half\n",
        "    mid = len(arr) // 2\n",
        "    left_half = arr[:mid]\n",
        "    right_half = arr[mid:]\n",
        "\n",
        "    left_half = merge_sort(left_half, [])\n",
        "    right_half = merge_sort(right_half, [])\n",
        "\n",
        "    # Merge the two sorted halves into a single sorted array\n",
        "    result = []\n",
        "    i = j = 0\n",
        "\n",
        "    n=len(left_half)+len(right_half)\n",
        "    result=[]\n",
        "    for k in range(n):\n",
        "      if i < len(left_half) and (j >= len(right_half) or left_half[i] <= right_half[j]):\n",
        "        result.append(left_half[i])\n",
        "        i+=1\n",
        "      else:\n",
        "        result.append(right_half[j])\n",
        "        j+=1\n",
        "\n",
        "    result += left_half[i:]\n",
        "    result += right_half[j:]\n",
        "\n",
        "    return result\n"
      ],
      "metadata": {
        "id": "IijglYaxg43i"
      },
      "execution_count": null,
      "outputs": []
    },
    {
      "cell_type": "markdown",
      "source": [
        "#### Merge sort complexity anlysis using substution \n",
        "We know that time complexity of merge and sort is $T(n) = T(n/2)+T(n/2)+O(n)$\n",
        "where T(n/2) is time comlexity to sort left or right list and $O(n)$ is the complexity to merge merge to sorted list .\n",
        "\n",
        "So $T(n)= 2T(n) + n  (1)$ \n",
        "\n",
        "substitute n/2 in place of n in equation (1)\n",
        "Thus, $T(n/2)= 2T(n/2) + n/2  (2)$\n",
        "\n",
        "we replace in equation (1) we get :\n",
        "$T(n)= 2^2 T(n/2) + 2n  (1)$\n",
        "\n",
        "we continue till i step so eqution (1) become:\n",
        "$T(n)= 2^i T(n/i) + in  (1)$\n",
        "\n",
        "we know $T(1)=1$\n",
        "\n",
        "let $ n/(2^i)=1 -> n=2^i$\n",
        "\n",
        "So, $i=\\log _2 n$\n",
        "\n",
        "we replace i with its value in eq (1) we get:\n",
        "\n",
        "$T(n) =nT(1) + n \\log _2 n = n+n\\log _2 n$\n",
        "\n",
        "Finally, $T(n) = O(n\\log _2 n)$\n",
        "\n"
      ],
      "metadata": {
        "id": "ZtAWc72PzEXS"
      }
    },
    {
      "cell_type": "markdown",
      "source": [
        "#### analyse the complexity of algorithm to find maximum element of a list  using the Big-O nota.on."
      ],
      "metadata": {
        "id": "EKR6Peps8B0l"
      }
    },
    {
      "cell_type": "code",
      "source": [
        "def max_element(List):\n",
        "    max_val = List[0]\n",
        "    for val in List:\n",
        "        if val > max_val:\n",
        "            max_val = val\n",
        "    return max_val"
      ],
      "metadata": {
        "id": "CjShJDUxk7zK"
      },
      "execution_count": null,
      "outputs": []
    },
    {
      "cell_type": "markdown",
      "source": [
        "The loop iterates n times, comparing each element of the array to the current maximum and updating max if necessary. Each iteration of the loop takes constant time $O(1)$.\n",
        "\n",
        "So, the time complexity of the algorithm for finding the maximum element in a list is $O(n)$"
      ],
      "metadata": {
        "id": "Sahup4gr8m_l"
      }
    },
    {
      "cell_type": "markdown",
      "source": [
        "# Quiz"
      ],
      "metadata": {
        "id": "jpRH5f3YB5CO"
      }
    },
    {
      "cell_type": "markdown",
      "source": [
        "#### 1) Time complexity :\n",
        "\n",
        "> Since the for loop runs n times and each iteration takes constant time, the total time complexity of the code is O(n).\n",
        "\n",
        "#### 2) Time complexity :\n",
        "> i is multiplied by k, so after x iterations, i will be equal to k^x. We want to find the largest value of x such that k^x is less than n. This can be expressed mathematically as:\n",
        "\n",
        "$$k^x < n$$\n",
        "$$x < log_k(n)$$\n",
        "> So the complexity is $O(log_k(n))$\n",
        "\n",
        "#### 3) Time complexity :\n",
        "\n",
        "> As we have two nested loops, one goes till n and the other one till m, so the complexity is O(n*m)."
      ],
      "metadata": {
        "id": "UAVuSenAINwq"
      }
    }
  ]
}