{
 "cells": [
  {
   "cell_type": "markdown",
   "metadata": {},
   "source": [
    "Use this cell for all your imports"
   ]
  },
  {
   "cell_type": "code",
   "execution_count": 37,
   "metadata": {},
   "outputs": [],
   "source": [
    "import numpy as np\n",
    "import pandas as pd\n",
    "from scipy.sparse import coo_matrix,diags\n",
    "import numpy.linalg as la"
   ]
  },
  {
   "cell_type": "markdown",
   "metadata": {},
   "source": [
    "## First approach "
   ]
  },
  {
   "cell_type": "markdown",
   "metadata": {},
   "source": [
    "You will be working with the file data.txt. Use this cell to load its content into the appropriate data structure."
   ]
  },
  {
   "cell_type": "code",
   "execution_count": 9,
   "metadata": {},
   "outputs": [
    {
     "data": {
      "text/html": [
       "<div>\n",
       "<style scoped>\n",
       "    .dataframe tbody tr th:only-of-type {\n",
       "        vertical-align: middle;\n",
       "    }\n",
       "\n",
       "    .dataframe tbody tr th {\n",
       "        vertical-align: top;\n",
       "    }\n",
       "\n",
       "    .dataframe thead th {\n",
       "        text-align: right;\n",
       "    }\n",
       "</style>\n",
       "<table border=\"1\" class=\"dataframe\">\n",
       "  <thead>\n",
       "    <tr style=\"text-align: right;\">\n",
       "      <th></th>\n",
       "      <th>FromNodeId</th>\n",
       "      <th>ToNodeId</th>\n",
       "    </tr>\n",
       "  </thead>\n",
       "  <tbody>\n",
       "    <tr>\n",
       "      <th>0</th>\n",
       "      <td>1001</td>\n",
       "      <td>9304045</td>\n",
       "    </tr>\n",
       "    <tr>\n",
       "      <th>1</th>\n",
       "      <td>1001</td>\n",
       "      <td>9308122</td>\n",
       "    </tr>\n",
       "    <tr>\n",
       "      <th>2</th>\n",
       "      <td>1001</td>\n",
       "      <td>9309097</td>\n",
       "    </tr>\n",
       "    <tr>\n",
       "      <th>3</th>\n",
       "      <td>1001</td>\n",
       "      <td>9311042</td>\n",
       "    </tr>\n",
       "    <tr>\n",
       "      <th>4</th>\n",
       "      <td>1001</td>\n",
       "      <td>9401139</td>\n",
       "    </tr>\n",
       "  </tbody>\n",
       "</table>\n",
       "</div>"
      ],
      "text/plain": [
       "   FromNodeId  ToNodeId\n",
       "0        1001   9304045\n",
       "1        1001   9308122\n",
       "2        1001   9309097\n",
       "3        1001   9311042\n",
       "4        1001   9401139"
      ]
     },
     "execution_count": 9,
     "metadata": {},
     "output_type": "execute_result"
    }
   ],
   "source": [
    "file = 'data.txt'\n",
    "df = pd.read_csv(file, sep='\\t', comment='#',header=None)\n",
    "df.columns = [\"FromNodeId\", \"ToNodeId\"]\n",
    "df.head()"
   ]
  },
  {
   "cell_type": "code",
   "execution_count": 85,
   "metadata": {},
   "outputs": [
    {
     "data": {
      "text/plain": [
       "27770"
      ]
     },
     "execution_count": 85,
     "metadata": {},
     "output_type": "execute_result"
    }
   ],
   "source": [
    "\n",
    "M=np.unique(df[['FromNodeId', 'ToNodeId']].values)\n",
    "\n",
    "len(M)"
   ]
  },
  {
   "cell_type": "markdown",
   "metadata": {},
   "source": [
    "Use this cell to normalize the matrix as you see fit."
   ]
  },
  {
   "cell_type": "code",
   "execution_count": 59,
   "metadata": {},
   "outputs": [],
   "source": [
    "# Get the number of rows and columns in the matrix\n",
    "n_rows = df['FromNodeId'].nunique()\n",
    "n_cols = df['ToNodeId'].nunique()\n",
    "\n",
    "# Create the COO matrix\n",
    "data_norm = coo_matrix((np.ones(len(df)), (df['FromNodeId'].values-df['FromNodeId'].min(), df['ToNodeId'].values-df['ToNodeId'].min())))\n"
   ]
  },
  {
   "cell_type": "markdown",
   "metadata": {},
   "source": [
    "Apply the PageRank algorithm to the matrix you created."
   ]
  },
  {
   "cell_type": "code",
   "execution_count": 94,
   "metadata": {},
   "outputs": [],
   "source": [
    "#this function that calculate matrix vector multiplication in coo format will be used in pagerank algo\n",
    "def mat_vec_coo(A, x):\n",
    "\n",
    "    if A.shape[1] != x.shape[0]:\n",
    "        raise ValueError(\"dimension mismatch\")\n",
    "    \n",
    "    res = np.zeros(x.shape[0], dtype=np.int64)\n",
    "    for i in range(len(A.data)):\n",
    "        res[A.row[i]] += A.data[i] * x[A.col[i]]\n",
    "    \n",
    "    return res\n",
    "\n"
   ]
  },
  {
   "cell_type": "code",
   "execution_count": 95,
   "metadata": {},
   "outputs": [],
   "source": [
    "def pageRank_coo(linkMatrix, d,eps=0.001) :\n",
    "    it_max=100\n",
    "    ite=0\n",
    "    n = linkMatrix.shape[1]\n",
    "    #here we calculate the multiplication with damping factor\n",
    "    linkMatrix.data= d * linkMatrix.data + (1-d)/len(linkMatrix.data ) * np.ones(len(linkMatrix.data ))\n",
    "    r =  np.ones(n)\n",
    "    print(linkMatrix.data)\n",
    "  # Sets up this vector (n entries of 1/n × 100 each)\n",
    "    last = r\n",
    "    r = mat_vec_coo(linkMatrix,r)\n",
    "    while la.norm(last - r) >eps or ite<it_max:\n",
    "        last = r\n",
    "        #matrix vector multiplication in coo format\n",
    "        r = mat_vec_coo(linkMatrix,r)\n",
    "        print(r)\n",
    "        ite+=1\n",
    "    return r\n",
    "pageRank(data_nor,0.87)"
   ]
  },
  {
   "cell_type": "markdown",
   "metadata": {},
   "source": [
    "# Second Approach"
   ]
  },
  {
   "cell_type": "code",
   "execution_count": 34,
   "metadata": {},
   "outputs": [],
   "source": [
    "import numpy as np\n",
    "import matplotlib.pyplot as plt\n",
    "from scipy.sparse import csr_matrix\n",
    "import networkx as nx\n",
    "from typing import Dict"
   ]
  },
  {
   "cell_type": "markdown",
   "metadata": {},
   "source": [
    "You will be working with the file data.txt. Use this cell to load its content into the appropriate data structure."
   ]
  },
  {
   "cell_type": "code",
   "execution_count": 35,
   "metadata": {},
   "outputs": [],
   "source": [
    "graph1 = {}\n",
    "with open('data.txt') as f:\n",
    "    for row in f:\n",
    "        \n",
    "        if not row.startswith('#'):\n",
    "            source, target = map(int, row.strip().split())\n",
    "            if source not in graph1:\n",
    "                graph1[source] = []\n",
    "            graph1[source].append(target)\n",
    "            \n",
    "        else:\n",
    "            continue"
   ]
  },
  {
   "cell_type": "markdown",
   "metadata": {},
   "source": [
    "Use this cell to normalize the matrix as you see fit."
   ]
  },
  {
   "cell_type": "code",
   "execution_count": 36,
   "metadata": {},
   "outputs": [],
   "source": [
    "def normalize(adj_matrix: csr_matrix):\n",
    "    \n",
    "    num_nodes = adj_matrix.shape[0]\n",
    "    col_sums = np.array(adj_matrix.sum(axis=0)).flatten()\n",
    "    col_sums[col_sums == 0] = 1\n",
    "    inv_col_sums = np.reciprocal(col_sums)\n",
    "    norm_adj_matrix = adj_matrix.multiply(inv_col_sums).tocsr()\n",
    "    \n",
    "    return norm_adj_matrix\n"
   ]
  },
  {
   "cell_type": "code",
   "execution_count": 37,
   "metadata": {},
   "outputs": [],
   "source": [
    "def to_csr(graph: Dict[int, set]):\n",
    "    indices = []\n",
    "    indptr = [0]\n",
    "    data = []\n",
    "    visited_edges = set()\n",
    "\n",
    "    for node, targets in graph.items():\n",
    "        for target in targets:\n",
    "            if (node, target) not in visited_edges:\n",
    "                indices.append(target)\n",
    "                data.append(1)\n",
    "                visited_edges.add((node, target))\n",
    "        indptr.append(len(indices))\n",
    "\n",
    "    csr = csr_matrix((data, indices, indptr))\n",
    "    norm_csr = normalize(csr)\n",
    "    return norm_csr"
   ]
  },
  {
   "cell_type": "code",
   "execution_count": 38,
   "metadata": {},
   "outputs": [
    {
     "name": "stdout",
     "output_type": "stream",
     "text": [
      "(25059, 9912294)\n"
     ]
    }
   ],
   "source": [
    "normalized = to_csr(graph1)\n",
    "print(normalized.shape)"
   ]
  },
  {
   "cell_type": "markdown",
   "metadata": {},
   "source": [
    "Apply the PageRank algorithm to the matrix you created."
   ]
  },
  {
   "cell_type": "code",
   "execution_count": 39,
   "metadata": {},
   "outputs": [],
   "source": [
    "# appply the networkx function\n",
    "G = nx.Graph(graph1)\n",
    "pagerank = nx.pagerank(G, alpha=0.9, tol=1e-7)"
   ]
  },
  {
   "cell_type": "markdown",
   "metadata": {},
   "source": [
    "Output a list of the 100 most important papers along with their importance"
   ]
  },
  {
   "cell_type": "code",
   "execution_count": 40,
   "metadata": {},
   "outputs": [
    {
     "name": "stdout",
     "output_type": "stream",
     "text": [
      "Node 9711200: PageRank score is = 0.00246\n",
      "Node 9802150: PageRank score is = 0.00176\n",
      "Node 9802109: PageRank score is = 0.00159\n",
      "Node 9407087: PageRank score is = 0.00153\n",
      "Node 9908142: PageRank score is = 0.00134\n",
      "Node 9905111: PageRank score is = 0.00132\n",
      "Node 9610043: PageRank score is = 0.00127\n",
      "Node 9906064: PageRank score is = 0.00113\n",
      "Node 9510017: PageRank score is = 0.00112\n",
      "Node 9408099: PageRank score is = 0.00112\n",
      "Node 9503124: PageRank score is = 0.00110\n",
      "Node 9711162: PageRank score is = 0.00086\n",
      "Node 9510209: PageRank score is = 0.00078\n",
      "Node 9510135: PageRank score is = 0.00076\n",
      "Node 9611050: PageRank score is = 0.00076\n",
      "Node 9410167: PageRank score is = 0.00074\n",
      "Node 9601029: PageRank score is = 0.00067\n",
      "Node 9401139: PageRank score is = 0.00053\n",
      "Node 9602022: PageRank score is = 0.00052\n",
      "Node 9803131: PageRank score is = 0.00051\n",
      "Node 9412184: PageRank score is = 0.00050\n",
      "Node 9204099: PageRank score is = 0.00049\n",
      "Node 9409089: PageRank score is = 0.00049\n",
      "Node 9603142: PageRank score is = 0.00048\n",
      "Node 9411149: PageRank score is = 0.00046\n",
      "Node 9711165: PageRank score is = 0.00045\n",
      "Node 9602052: PageRank score is = 0.00043\n",
      "Node 106048: PageRank score is = 0.00043\n",
      "Node 9603167: PageRank score is = 0.00042\n",
      "Node 9611230: PageRank score is = 0.00042\n",
      "Node 9710046: PageRank score is = 0.00041\n",
      "Node 9703166: PageRank score is = 0.00041\n",
      "Node 9608024: PageRank score is = 0.00040\n",
      "Node 9910053: PageRank score is = 0.00040\n",
      "Node 9912072: PageRank score is = 0.00038\n",
      "Node 9210010: PageRank score is = 0.00038\n",
      "Node 9306002: PageRank score is = 0.00038\n",
      "Node 9703030: PageRank score is = 0.00037\n",
      "Node 9501068: PageRank score is = 0.00037\n",
      "Node 9301042: PageRank score is = 0.00037\n",
      "Node 9508143: PageRank score is = 0.00036\n",
      "Node 9612115: PageRank score is = 0.00036\n",
      "Node 9510169: PageRank score is = 0.00036\n",
      "Node 9602043: PageRank score is = 0.00035\n",
      "Node 9512077: PageRank score is = 0.00035\n",
      "Node 109162: PageRank score is = 0.00034\n",
      "Node 9802067: PageRank score is = 0.00034\n",
      "Node 9512062: PageRank score is = 0.00034\n",
      "Node 9412228: PageRank score is = 0.00034\n",
      "Node 9602070: PageRank score is = 0.00033\n",
      "Node 9408074: PageRank score is = 0.00033\n",
      "Node 9405029: PageRank score is = 0.00033\n",
      "Node 9810188: PageRank score is = 0.00033\n",
      "Node 202021: PageRank score is = 0.00032\n",
      "Node 9512059: PageRank score is = 0.00032\n",
      "Node 9402002: PageRank score is = 0.00032\n",
      "Node 9504090: PageRank score is = 0.00032\n",
      "Node 101126: PageRank score is = 0.00032\n",
      "Node 9511030: PageRank score is = 0.00032\n",
      "Node 9802042: PageRank score is = 0.00032\n",
      "Node 9803002: PageRank score is = 0.00031\n",
      "Node 9505105: PageRank score is = 0.00031\n",
      "Node 9607201: PageRank score is = 0.00031\n",
      "Node 9904207: PageRank score is = 0.00031\n",
      "Node 9704080: PageRank score is = 0.00031\n",
      "Node 7170: PageRank score is = 0.00031\n",
      "Node 204253: PageRank score is = 0.00030\n",
      "Node 9411048: PageRank score is = 0.00030\n",
      "Node 9507121: PageRank score is = 0.00030\n",
      "Node 9507158: PageRank score is = 0.00029\n",
      "Node 9509066: PageRank score is = 0.00029\n",
      "Node 9805114: PageRank score is = 0.00029\n",
      "Node 110055: PageRank score is = 0.00029\n",
      "Node 9601038: PageRank score is = 0.00029\n",
      "Node 9812219: PageRank score is = 0.00028\n",
      "Node 9802183: PageRank score is = 0.00028\n",
      "Node 9809039: PageRank score is = 0.00028\n",
      "Node 9402044: PageRank score is = 0.00028\n",
      "Node 9804058: PageRank score is = 0.00028\n",
      "Node 9903205: PageRank score is = 0.00028\n",
      "Node 9802051: PageRank score is = 0.00028\n",
      "Node 9805170: PageRank score is = 0.00028\n",
      "Node 3160: PageRank score is = 0.00027\n",
      "Node 9304154: PageRank score is = 0.00027\n",
      "Node 9611042: PageRank score is = 0.00027\n",
      "Node 9603161: PageRank score is = 0.00027\n",
      "Node 9402032: PageRank score is = 0.00027\n",
      "Node 9511222: PageRank score is = 0.00026\n",
      "Node 9710009: PageRank score is = 0.00026\n",
      "Node 9204064: PageRank score is = 0.00026\n",
      "Node 3190: PageRank score is = 0.00026\n",
      "Node 9301068: PageRank score is = 0.00026\n",
      "Node 210157: PageRank score is = 0.00026\n",
      "Node 204089: PageRank score is = 0.00026\n",
      "Node 9411057: PageRank score is = 0.00026\n",
      "Node 9204083: PageRank score is = 0.00026\n",
      "Node 9612121: PageRank score is = 0.00025\n",
      "Node 9909134: PageRank score is = 0.00025\n",
      "Node 9602114: PageRank score is = 0.00025\n",
      "Node 2034: PageRank score is = 0.00025\n"
     ]
    }
   ],
   "source": [
    "important_papers = sorted(pagerank.items(), key=lambda x: x[1], reverse=True)[:100]\n",
    "for i, (node, score) in enumerate(important_papers):\n",
    "    print(f\"Node {node}: PageRank score is = {score:.5f}\")"
   ]
  },
  {
   "cell_type": "markdown",
   "metadata": {},
   "source": [
    "Results visuaalisation"
   ]
  },
  {
   "cell_type": "code",
   "execution_count": 41,
   "metadata": {},
   "outputs": [
    {
     "data": {
      "text/plain": [
       "Text(0.5, 1.0, 'The scoring plot for the top 100 pages')"
      ]
     },
     "execution_count": 41,
     "metadata": {},
     "output_type": "execute_result"
    },
    {
     "data": {
      "image/png": "[encoded data removed]",
      "text/plain": [
       "<Figure size 432x288 with 1 Axes>"
      ]
     },
     "metadata": {},
     "output_type": "display_data"
    }
   ],
   "source": [
    "# scores into list for plotting\n",
    "scores = [score for node, score in important_papers]\n",
    "plt.hist(scores, bins='auto', color='#0504aa',\n",
    "                            alpha=0.7, rwidth=0.85)\n",
    "\n",
    "plt.grid(axis='y', alpha=0.75)\n",
    "plt.xlabel('Ranking score')\n",
    "plt.ylabel('Frequency')\n",
    "plt.title('The scoring plot for the top 100 pages')"
   ]
  },
  {
   "cell_type": "code",
   "execution_count": null,
   "metadata": {},
   "outputs": [],
   "source": []
  }
 ],
 "metadata": {
  "kernelspec": {
   "display_name": "Python 3",
   "language": "python",
   "name": "python3"
  },
  "language_info": {
   "codemirror_mode": {
    "name": "ipython",
    "version": 3
   },
   "file_extension": ".py",
   "mimetype": "text/x-python",
   "name": "python",
   "nbconvert_exporter": "python",
   "pygments_lexer": "ipython3",
   "version": "3.6.9"
  }
 },
 "nbformat": 4,
 "nbformat_minor": 5
}
